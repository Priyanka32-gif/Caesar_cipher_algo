{
 "cells": [
  {
   "cell_type": "code",
   "execution_count": 95,
   "id": "de728977",
   "metadata": {},
   "outputs": [],
   "source": [
    "def encrypt(text,k):\n",
    "    cipher_txt = \"\"\n",
    "    text = text.upper()\n",
    "    for x in range(len(text)):\n",
    "        if text[x]== \" \":\n",
    "                cipher_txt += \" \"\n",
    "        else:\n",
    "            n = ord(text[x])\n",
    "            n = n-65\n",
    "            c = (n+k)%26\n",
    "            cipher_txt += chr(c+65)\n",
    "    return cipher_txt"
   ]
  },
  {
   "cell_type": "code",
   "execution_count": 96,
   "id": "7420b237",
   "metadata": {},
   "outputs": [
    {
     "data": {
      "text/plain": [
       "'OGGV OG CV VQIC RCTVA'"
      ]
     },
     "execution_count": 96,
     "metadata": {},
     "output_type": "execute_result"
    }
   ],
   "source": [
    "encrypt('meet me at toga party',2)"
   ]
  },
  {
   "cell_type": "code",
   "execution_count": 97,
   "id": "325d930f",
   "metadata": {},
   "outputs": [],
   "source": [
    "def decrypt(text,k):\n",
    "    plain_txt = \"\"\n",
    "    text.upper()\n",
    "    for x in range(len(text)):\n",
    "        if text[x] == \" \":\n",
    "                plain_txt += \" \"\n",
    "        else:\n",
    "            c = ord(text[x])\n",
    "            c = c-65\n",
    "            n = (c-k)%26\n",
    "            plain_txt += chr(n+65)\n",
    "    return plain_txt.lower()"
   ]
  },
  {
   "cell_type": "code",
   "execution_count": 99,
   "id": "82fdd50a",
   "metadata": {},
   "outputs": [
    {
     "data": {
      "text/plain": [
       "'meet me at toga party'"
      ]
     },
     "execution_count": 99,
     "metadata": {},
     "output_type": "execute_result"
    }
   ],
   "source": [
    "decrypt('OGGV OG CV VQIC RCTVA',2)"
   ]
  },
  {
   "cell_type": "code",
   "execution_count": null,
   "id": "6d7a6541",
   "metadata": {},
   "outputs": [],
   "source": []
  }
 ],
 "metadata": {
  "kernelspec": {
   "display_name": "Python 3 (ipykernel)",
   "language": "python",
   "name": "python3"
  },
  "language_info": {
   "codemirror_mode": {
    "name": "ipython",
    "version": 3
   },
   "file_extension": ".py",
   "mimetype": "text/x-python",
   "name": "python",
   "nbconvert_exporter": "python",
   "pygments_lexer": "ipython3",
   "version": "3.9.5"
  }
 },
 "nbformat": 4,
 "nbformat_minor": 5
}
